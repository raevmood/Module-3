{
 "cells": [
  {
   "cell_type": "code",
   "execution_count": null,
   "id": "f9e4763c",
   "metadata": {},
   "outputs": [],
   "source": [
    "import json\n",
    "\n",
    "file_path = \"memory.json\"\n",
    "with open(file_path, \"r\") as d:\n",
    "  memory = json.loads(d.read())\n",
    "\n",
    "concept = \"Quasi-Connectivity and Quantum Computing\"\n",
    "prompt = f\"\"\"\n",
    "You are a helpful assisstant, specialising in the area of {concept}. \n",
    "Give a short definition and explanation on the basics of the subject in 100 words.  \n",
    "Here is a record of previous prompts and responses: {memory}.\n",
    "Do not reiterate information present. Build upon it where possible. \n",
    "Make explicit references to content in memory when possible.\n",
    "Include intuitive line breaks in response for formatting purposes.\n",
    "\"\"\" \n",
    "message = f\"Explain {concept} to me\"\n",
    "\n",
    "prompt2 = f\"\"\"\n",
    "You are a waether assisstant. Run thi\n",
    "\"\"\""
   ]
  },
  {
   "cell_type": "code",
   "execution_count": 68,
   "id": "4fc04ec9",
   "metadata": {},
   "outputs": [
    {
     "name": "stdout",
     "output_type": "stream",
     "text": [
      "[{'user': 'Explain Quantum Physics to me.', 'AI_response': 'Hello there! As a helpful assistant specializing in Quantum Physics, I\\'d be delighted to give you a basic rundown.\\n\\n---\\n\\n### What is Quantum Physics?\\n\\n**Short Definition:** Quantum Physics is the fundamental theory describing the nature and behavior of matter and energy at the **atomic and subatomic levels**. It\\'s a radical departure from classical physics, which effectively describes the world at larger scales.\\n\\n---\\n\\n### The Basics Explained:\\n\\nImagine you\\'re trying to understand how a watch works, but all you have is a magnifying glass that lets you see gears, springs, and tiny components. Classical physics is like looking at the entire watch and understanding its overall function. Quantum physics is like zooming in so far that you realize the tiny components themselves behave in incredibly strange and counter-intuitive ways.\\n\\nHere are the core concepts:\\n\\n1.  **Quantization of Energy (and other properties):**\\n    *   **The Idea:** In the quantum world, energy, momentum, and other physical properties are not continuous (like a ramp you can stand anywhere on) but come in discrete, indivisible packets called **\"quanta.\"**\\n    *   **Analogy:** Think of climbing stairs instead of a ramp. You can only stand on a specific step; you can\\'t hover between steps. An electron in an atom can only have specific, fixed energy levels, not just any energy level. When it changes energy, it jumps from one \"step\" to another, absorbing or emitting a photon (a quantum of light) with exactly the right amount of energy.\\n\\n2.  **Wave-Particle Duality:**\\n    *   **The Idea:** Particles like electrons, and even light (which we often think of as a wave), exhibit both particle-like and wave-like properties simultaneously.\\n    *   **Analogy:** Imagine an electron. Sometimes it behaves like a tiny, solid billiard ball (a particle with a definite position), and other times it acts like a spread-out ripple in a pond (a wave with a wavelength). Light, too, can act like a stream of particles (photons) and a propagating wave. Which behavior you observe depends on how you measure it.\\n\\n3.  **Probability and Uncertainty:**\\n    *   **The Idea:** Unlike the deterministic world of classical physics (where if you know all the initial conditions, you can predict the future with certainty), quantum mechanics is inherently probabilistic. We can only predict the *likelihood* of an outcome.\\n    *   **Heisenberg Uncertainty Principle:** This famous principle states that you cannot simultaneously know with perfect precision certain pairs of properties for a particle, such as its exact position and its exact momentum (speed and direction). The more precisely you know one, the less precisely you can know the other. It\\'s not a limitation of our measuring tools; it\\'s a fundamental property of nature.\\n\\n4.  **Superposition and Measurement:**\\n    *   **The Idea:** Before observation, a quantum particle can exist in multiple possible states at once – this is called **superposition**. The act of measuring or observing the particle forces it to \"choose\" one of these states.\\n    *   **Analogy:** Imagine a coin spinning in the air. While it\\'s spinning, it\\'s neither heads nor tails, but a \"superposition\" of both. Only when it lands (is \"measured\" by hitting the table) does it collapse into a definite state (either heads or tails). In the quantum world, particles can be in multiple places at once, or spinning in multiple directions, until we look!\\n\\n---\\n\\n**In essence, Quantum Physics tells us that at the smallest scales, reality is fuzzy, probabilistic, and behaves in ways that defy our everyday intuition. It\\'s weird, but it\\'s the most accurate description of the universe we have, forming the bedrock for technologies like lasers, transistors (and thus computers and smartphones), and MRI machines.**'}, {'user': 'Explain Quantum Physics to me.', 'AI_response': 'Building on our previous discussion, Quantum Physics is the fundamental framework describing nature at the atomic and subatomic scales, where classical physics breaks down. It reveals that properties like energy are \"quantized,\" meaning they exist in discrete packets, or \"quanta,\" as discussed before. Particles exhibit \"wave-particle duality,\" behaving as both waves and particles. This realm is inherently probabilistic, with the \"Heisenberg Uncertainty Principle\" limiting our knowledge of certain paired properties. Furthermore, particles can exist in \"superposition\" – multiple states simultaneously – until \"measurement\" forces them into a definite state, a concept explored earlier. It\\'s a counter-intuitive yet incredibly accurate description of reality\\'s smallest building blocks.'}, {'user': 'Explain Quantum Computing to me.', 'AI_response': 'Building on our previous discussions, Quantum Physics profoundly describes reality at the atomic and subatomic levels, where classical physics fails.\\n\\nIt posits that properties like energy are \"quantized\" into discrete \"quanta,\" not continuous. Particles exhibit \"wave-particle duality,\" defying simple categorization by acting as both waves and particles.\\n\\nThe \"Heisenberg Uncertainty Principle,\" as explored, reveals inherent limits to simultaneously knowing paired properties. Critically, particles exist in \"superposition\"—multiple states at once—until \"measurement\" forces a single outcome.\\n\\nThis inherently probabilistic and non-deterministic framework, counter-intuitive yet proven, underpins modern technologies from lasers to advanced computing, showcasing nature\\'s bizarre, fundamental truth.'}, {'user': 'Explain Quantum Physics vs Classical Physics to me', 'AI_response': 'Classical Physics describes our everyday, macroscopic world: deterministic, predictable, with continuous properties and distinct particles or waves. Objects have definite states and trajectories.\\n\\nQuantum Physics, however, governs the atomic and subatomic realms, where these rules break down. As discussed, properties are \"quantized\" into discrete \"quanta,\" not continuous. Particles exhibit \"wave-particle duality,\" blurring classical distinctions. This realm is inherently \"probabilistic\" due to the \"Heisenberg Uncertainty Principle,\" replacing classical determinism. Crucially, \"superposition\" allows multiple states until \"measurement,\" utterly unlike classical predictability. It\\'s the counter-intuitive, yet fundamental, reality.'}, {'user': 'Explain Quasi-Connectivity to me', 'AI_response': 'Hello! As a helpful assistant specializing in Quasi-Connectivity, I\\'d be delighted to give you a basic rundown.\\n\\n---\\n\\n### What is Quasi-Connectivity?\\n\\n**Quasi-connectivity** refers to a state in a network (like a graph of nodes and edges) where it is \"almost\" fully connected, but with inherent vulnerabilities. It implies that while paths generally exist between most points, these connections might rely on a few critical links or nodes.\\n\\nRemoving these crucial elements could easily fragment the network. It\\'s a measure of robustness, indicating areas of potential fragility rather than complete isolation, assessing how \"close\" a system is to being truly disconnected.'}]\n"
     ]
    }
   ],
   "source": [
    "print(memory)"
   ]
  },
  {
   "cell_type": "code",
   "execution_count": 66,
   "id": "a415703a",
   "metadata": {},
   "outputs": [
    {
     "name": "stdout",
     "output_type": "stream",
     "text": [
      "Quasi-Connectivity, as previously discussed, describes a network state that is \"almost\" fully connected but inherently vulnerable. It signifies reliance on critical links, meaning removal of key elements can easily fragment the system, highlighting areas of fragility.\n",
      "\n",
      "Quantum Computing, building on our understanding of Quantum Physics, leverages phenomena like **superposition** (where quantum bits, or qubits, exist in multiple states simultaneously) and entanglement. Unlike classical bits, qubits allow for vastly parallel processing. This computational power enables solutions to problems intractable for conventional computers, revolutionizing fields from material science to cryptography by exploiting nature's fundamental quantum properties.\n"
     ]
    }
   ],
   "source": [
    "from google import genai\n",
    "import os\n",
    "import json\n",
    "\n",
    "client = genai.Client()\n",
    "\n",
    "response = client.models.generate_content(\n",
    "    model=\"gemini-2.5-flash\",\n",
    "    contents=prompt,\n",
    ")\n",
    "\n",
    "print(response.text)\n",
    "format = {\n",
    "  \"user\": message,\n",
    "  \"AI_response\": response.text\n",
    "}\n",
    "\n",
    "with open(file_path, \"r\") as file:\n",
    "  data = json.loads(file.read())\n",
    "\n",
    "data.append(format)\n",
    "with open(file_path, \"w\") as f:\n",
    "  f.write(json.dumps(data, indent=4))\n"
   ]
  },
  {
   "cell_type": "code",
   "execution_count": null,
   "id": "3c612e40",
   "metadata": {},
   "outputs": [
    {
     "name": "stdout",
     "output_type": "stream",
     "text": [
      "Weather in Amsterdam:\n",
      "- Temperature: 18.42°C\n",
      "- Description: Light rain\n",
      "- Humidity: 89%\n",
      "- Wind Speed: 4.83 m/s\n"
     ]
    }
   ],
   "source": [
    "import requests\n",
    "import os\n",
    "\n",
    "def get_open_weather():\n",
    "  API_KEY = os.getenv(\"OPENWEATHER_API_KEY\")\n",
    "  CITY_NAME = \"Amsterdam\"\n",
    "  BASE_URL = \"https://api.openweathermap.org/data/2.5/weather\"\n",
    "\n",
    "  params = {\n",
    "      \"q\": CITY_NAME,\n",
    "      \"appid\": API_KEY,\n",
    "      \"units\": \"metric\" \n",
    "  }\n",
    "\n",
    "  try:\n",
    "      response = requests.get(BASE_URL, params=params)\n",
    "      response.raise_for_status()\n",
    "      data = response.json()\n",
    "\n",
    "      weather = {\n",
    "          \"city\": data[\"name\"],\n",
    "          \"temperature\": data[\"main\"][\"temp\"],\n",
    "          \"description\": data[\"weather\"][0][\"description\"],\n",
    "          \"humidity\": data[\"main\"][\"humidity\"],\n",
    "          \"wind_speed\": data[\"wind\"][\"speed\"]\n",
    "      }\n",
    "\n",
    "      print(f\"Weather in {weather['city']}:\")\n",
    "      print(f\"- Temperature: {weather['temperature']}°C\")\n",
    "      print(f\"- Description: {weather['description'].capitalize()}\")\n",
    "      print(f\"- Humidity: {weather['humidity']}%\")\n",
    "      print(f\"- Wind Speed: {weather['wind_speed']} m/s\")\n",
    "\n",
    "  except requests.exceptions.RequestException as e:\n",
    "      print(f\"Error fetching weather data: {e}\")\n",
    "\n",
    "get_open_weather()\n"
   ]
  },
  {
   "cell_type": "code",
   "execution_count": null,
   "id": "b051ba47",
   "metadata": {},
   "outputs": [
    {
     "name": "stdout",
     "output_type": "stream",
     "text": [
      "Creating a new index: genai-quickstart\n",
      "Index created successfully.\n",
      "\n",
      "Connected to index. Index stats:\n",
      "{'dimension': 384,\n",
      " 'index_fullness': 0.0,\n",
      " 'metric': 'cosine',\n",
      " 'namespaces': {},\n",
      " 'total_vector_count': 0,\n",
      " 'vector_type': 'dense'}\n",
      "\n",
      "--- Preparing and Embedding Data ---\n",
      "Data embedded. Now upserting to Pinecone...\n"
     ]
    },
    {
     "name": "stderr",
     "output_type": "stream",
     "text": [
      "c:\\Users\\KARANJA\\OneDrive\\Desktop\\DirectEd_Module_3\\.venv\\Lib\\site-packages\\torch\\nn\\modules\\module.py:1762: FutureWarning: `encoder_attention_mask` is deprecated and will be removed in version 4.55.0 for `BertSdpaSelfAttention.forward`.\n",
      "  return forward_call(*args, **kwargs)\n"
     ]
    },
    {
     "name": "stdout",
     "output_type": "stream",
     "text": [
      "Upsert complete. Index stats after upsert:\n",
      "{'dimension': 384,\n",
      " 'index_fullness': 0.0,\n",
      " 'metric': 'cosine',\n",
      " 'namespaces': {},\n",
      " 'total_vector_count': 0,\n",
      " 'vector_type': 'dense'}\n",
      "\n",
      "--- Querying the Index ---\n"
     ]
    },
    {
     "name": "stderr",
     "output_type": "stream",
     "text": [
      "c:\\Users\\KARANJA\\OneDrive\\Desktop\\DirectEd_Module_3\\.venv\\Lib\\site-packages\\torch\\nn\\modules\\module.py:1762: FutureWarning: `encoder_attention_mask` is deprecated and will be removed in version 4.55.0 for `BertSdpaSelfAttention.forward`.\n",
      "  return forward_call(*args, **kwargs)\n"
     ]
    },
    {
     "name": "stdout",
     "output_type": "stream",
     "text": [
      "Query: 'What is the future of AI?'\n",
      "\n",
      "Top results from Pinecone:\n"
     ]
    }
   ],
   "source": [
    "import os\n",
    "import pandas as pd\n",
    "from pinecone import Pinecone, ServerlessSpec\n",
    "from sentence_transformers import SentenceTransformer\n",
    "\n",
    "\n",
    "api_key = os.environ.get(\"PINECONE_API_KEY\")\n",
    "if not api_key:\n",
    "    raise ValueError(\"PINECONE_API_KEY environment variable not set\")\n",
    "\n",
    "pc = Pinecone(api_key=api_key)\n",
    "\n",
    "model = SentenceTransformer('all-MiniLM-L6-v2')\n",
    "embedding_dim = 384\n",
    "index_name = \"genai-quickstart\"\n",
    "\n",
    "if index_name not in pc.list_indexes().names():\n",
    "    print(f\"Creating a new index: {index_name}\")\n",
    "    pc.create_index(\n",
    "        name=index_name,\n",
    "        dimension=embedding_dim,\n",
    "        metric=\"cosine\",\n",
    "        spec=ServerlessSpec(\n",
    "            cloud='aws',\n",
    "            region='us-east-1'\n",
    "        )\n",
    "    )\n",
    "    print(\"Index created successfully.\")\n",
    "else:\n",
    "    print(f\"Index '{index_name}' already exists.\")\n",
    "\n",
    "index = pc.Index(index_name)\n",
    "print(\"\\nConnected to index. Index stats:\")\n",
    "print(index.describe_index_stats())\n",
    "\n",
    "\n",
    "data = {\n",
    "    'id': ['doc1', 'doc2', 'doc3', 'doc4'],\n",
    "    'text': [\n",
    "        \"The cat sat on the mat.\",\n",
    "        \"A dog played in the sunny park.\",\n",
    "        \"Artificial intelligence will transform the world.\",\n",
    "        \"Generative AI models can create text and images.\"\n",
    "    ],\n",
    "    'category': ['animals', 'animals', 'technology', 'technology']\n",
    "}\n",
    "df = pd.DataFrame(data)\n",
    "\n",
    "print(\"\\n--- Preparing and Embedding Data ---\")\n",
    "df['embedding'] = df['text'].apply(lambda x: model.encode(x).tolist())\n",
    "\n",
    "print(\"Data embedded. Now upserting to Pinecone...\")\n",
    "\n",
    "vectors_to_upsert = []\n",
    "for i, row in df.iterrows():\n",
    "    vector = {\n",
    "        \"id\": row['id'],\n",
    "        \"values\": row['embedding'],\n",
    "        \"metadata\": {\"text\": row['text'], \"category\": row['category']}\n",
    "    }\n",
    "    vectors_to_upsert.append(vector)\n",
    "\n",
    "index.upsert(vectors=vectors_to_upsert)\n",
    "\n",
    "print(\"Upsert complete. Index stats after upsert:\")\n",
    "print(index.describe_index_stats())\n",
    "\n",
    "print(\"\\n--- Querying the Index ---\")\n",
    "query_text = \"What is the future of AI?\"\n",
    "\n",
    "query_embedding = model.encode(query_text).tolist()\n",
    "\n",
    "results = index.query(\n",
    "    vector=query_embedding,\n",
    "    top_k=2,  \n",
    "    include_metadata=True\n",
    ")\n",
    "\n",
    "print(f\"Query: '{query_text}'\")\n",
    "print(\"\\nTop results from Pinecone:\")\n",
    "for match in results['matches']:\n",
    "    print(f\"  - ID: {match['id']}\")\n",
    "    print(f\"    Score: {match['score']:.4f}\")\n",
    "    print(f\"    Text: {match['metadata']['text']}\")\n",
    "    print(f\"    Category: {match['metadata']['category']}\\n\")"
   ]
  }
 ],
 "metadata": {
  "kernelspec": {
   "display_name": ".venv",
   "language": "python",
   "name": "python3"
  },
  "language_info": {
   "codemirror_mode": {
    "name": "ipython",
    "version": 3
   },
   "file_extension": ".py",
   "mimetype": "text/x-python",
   "name": "python",
   "nbconvert_exporter": "python",
   "pygments_lexer": "ipython3",
   "version": "3.13.5"
  }
 },
 "nbformat": 4,
 "nbformat_minor": 5
}
