{
 "cells": [
  {
   "cell_type": "code",
   "execution_count": 65,
   "id": "f9e4763c",
   "metadata": {},
   "outputs": [],
   "source": [
    "import json\n",
    "\n",
    "file_path = \"memory.json\"\n",
    "with open(file_path, \"r\") as d:\n",
    "  memory = json.loads(d.read())\n",
    "\n",
    "concept = \"Quasi-Connectivity and Quantum Computing\"\n",
    "prompt = f\"\"\"\n",
    "You are a helpful assisstant, specialising in the area of {concept}. \n",
    "Give a short definition and explanation on the basics of the subject in 100 words.  \n",
    "Here is a record of previous prompts and responses: {memory}.\n",
    "Do not reiterate information present. Build upon it where possible. \n",
    "Make explicit references to content in memory when possible.\n",
    "Include intuitive line breaks in response for formatting purposes.\n",
    "\"\"\" \n",
    "message = f\"Explain {concept} to me\""
   ]
  },
  {
   "cell_type": "code",
   "execution_count": 68,
   "id": "4fc04ec9",
   "metadata": {},
   "outputs": [
    {
     "name": "stdout",
     "output_type": "stream",
     "text": [
      "[{'user': 'Explain Quantum Physics to me.', 'AI_response': 'Hello there! As a helpful assistant specializing in Quantum Physics, I\\'d be delighted to give you a basic rundown.\\n\\n---\\n\\n### What is Quantum Physics?\\n\\n**Short Definition:** Quantum Physics is the fundamental theory describing the nature and behavior of matter and energy at the **atomic and subatomic levels**. It\\'s a radical departure from classical physics, which effectively describes the world at larger scales.\\n\\n---\\n\\n### The Basics Explained:\\n\\nImagine you\\'re trying to understand how a watch works, but all you have is a magnifying glass that lets you see gears, springs, and tiny components. Classical physics is like looking at the entire watch and understanding its overall function. Quantum physics is like zooming in so far that you realize the tiny components themselves behave in incredibly strange and counter-intuitive ways.\\n\\nHere are the core concepts:\\n\\n1.  **Quantization of Energy (and other properties):**\\n    *   **The Idea:** In the quantum world, energy, momentum, and other physical properties are not continuous (like a ramp you can stand anywhere on) but come in discrete, indivisible packets called **\"quanta.\"**\\n    *   **Analogy:** Think of climbing stairs instead of a ramp. You can only stand on a specific step; you can\\'t hover between steps. An electron in an atom can only have specific, fixed energy levels, not just any energy level. When it changes energy, it jumps from one \"step\" to another, absorbing or emitting a photon (a quantum of light) with exactly the right amount of energy.\\n\\n2.  **Wave-Particle Duality:**\\n    *   **The Idea:** Particles like electrons, and even light (which we often think of as a wave), exhibit both particle-like and wave-like properties simultaneously.\\n    *   **Analogy:** Imagine an electron. Sometimes it behaves like a tiny, solid billiard ball (a particle with a definite position), and other times it acts like a spread-out ripple in a pond (a wave with a wavelength). Light, too, can act like a stream of particles (photons) and a propagating wave. Which behavior you observe depends on how you measure it.\\n\\n3.  **Probability and Uncertainty:**\\n    *   **The Idea:** Unlike the deterministic world of classical physics (where if you know all the initial conditions, you can predict the future with certainty), quantum mechanics is inherently probabilistic. We can only predict the *likelihood* of an outcome.\\n    *   **Heisenberg Uncertainty Principle:** This famous principle states that you cannot simultaneously know with perfect precision certain pairs of properties for a particle, such as its exact position and its exact momentum (speed and direction). The more precisely you know one, the less precisely you can know the other. It\\'s not a limitation of our measuring tools; it\\'s a fundamental property of nature.\\n\\n4.  **Superposition and Measurement:**\\n    *   **The Idea:** Before observation, a quantum particle can exist in multiple possible states at once – this is called **superposition**. The act of measuring or observing the particle forces it to \"choose\" one of these states.\\n    *   **Analogy:** Imagine a coin spinning in the air. While it\\'s spinning, it\\'s neither heads nor tails, but a \"superposition\" of both. Only when it lands (is \"measured\" by hitting the table) does it collapse into a definite state (either heads or tails). In the quantum world, particles can be in multiple places at once, or spinning in multiple directions, until we look!\\n\\n---\\n\\n**In essence, Quantum Physics tells us that at the smallest scales, reality is fuzzy, probabilistic, and behaves in ways that defy our everyday intuition. It\\'s weird, but it\\'s the most accurate description of the universe we have, forming the bedrock for technologies like lasers, transistors (and thus computers and smartphones), and MRI machines.**'}, {'user': 'Explain Quantum Physics to me.', 'AI_response': 'Building on our previous discussion, Quantum Physics is the fundamental framework describing nature at the atomic and subatomic scales, where classical physics breaks down. It reveals that properties like energy are \"quantized,\" meaning they exist in discrete packets, or \"quanta,\" as discussed before. Particles exhibit \"wave-particle duality,\" behaving as both waves and particles. This realm is inherently probabilistic, with the \"Heisenberg Uncertainty Principle\" limiting our knowledge of certain paired properties. Furthermore, particles can exist in \"superposition\" – multiple states simultaneously – until \"measurement\" forces them into a definite state, a concept explored earlier. It\\'s a counter-intuitive yet incredibly accurate description of reality\\'s smallest building blocks.'}, {'user': 'Explain Quantum Computing to me.', 'AI_response': 'Building on our previous discussions, Quantum Physics profoundly describes reality at the atomic and subatomic levels, where classical physics fails.\\n\\nIt posits that properties like energy are \"quantized\" into discrete \"quanta,\" not continuous. Particles exhibit \"wave-particle duality,\" defying simple categorization by acting as both waves and particles.\\n\\nThe \"Heisenberg Uncertainty Principle,\" as explored, reveals inherent limits to simultaneously knowing paired properties. Critically, particles exist in \"superposition\"—multiple states at once—until \"measurement\" forces a single outcome.\\n\\nThis inherently probabilistic and non-deterministic framework, counter-intuitive yet proven, underpins modern technologies from lasers to advanced computing, showcasing nature\\'s bizarre, fundamental truth.'}, {'user': 'Explain Quantum Physics vs Classical Physics to me', 'AI_response': 'Classical Physics describes our everyday, macroscopic world: deterministic, predictable, with continuous properties and distinct particles or waves. Objects have definite states and trajectories.\\n\\nQuantum Physics, however, governs the atomic and subatomic realms, where these rules break down. As discussed, properties are \"quantized\" into discrete \"quanta,\" not continuous. Particles exhibit \"wave-particle duality,\" blurring classical distinctions. This realm is inherently \"probabilistic\" due to the \"Heisenberg Uncertainty Principle,\" replacing classical determinism. Crucially, \"superposition\" allows multiple states until \"measurement,\" utterly unlike classical predictability. It\\'s the counter-intuitive, yet fundamental, reality.'}, {'user': 'Explain Quasi-Connectivity to me', 'AI_response': 'Hello! As a helpful assistant specializing in Quasi-Connectivity, I\\'d be delighted to give you a basic rundown.\\n\\n---\\n\\n### What is Quasi-Connectivity?\\n\\n**Quasi-connectivity** refers to a state in a network (like a graph of nodes and edges) where it is \"almost\" fully connected, but with inherent vulnerabilities. It implies that while paths generally exist between most points, these connections might rely on a few critical links or nodes.\\n\\nRemoving these crucial elements could easily fragment the network. It\\'s a measure of robustness, indicating areas of potential fragility rather than complete isolation, assessing how \"close\" a system is to being truly disconnected.'}]\n"
     ]
    }
   ],
   "source": [
    "print(memory)"
   ]
  },
  {
   "cell_type": "code",
   "execution_count": 66,
   "id": "a415703a",
   "metadata": {},
   "outputs": [
    {
     "name": "stdout",
     "output_type": "stream",
     "text": [
      "Quasi-Connectivity, as previously discussed, describes a network state that is \"almost\" fully connected but inherently vulnerable. It signifies reliance on critical links, meaning removal of key elements can easily fragment the system, highlighting areas of fragility.\n",
      "\n",
      "Quantum Computing, building on our understanding of Quantum Physics, leverages phenomena like **superposition** (where quantum bits, or qubits, exist in multiple states simultaneously) and entanglement. Unlike classical bits, qubits allow for vastly parallel processing. This computational power enables solutions to problems intractable for conventional computers, revolutionizing fields from material science to cryptography by exploiting nature's fundamental quantum properties.\n"
     ]
    }
   ],
   "source": [
    "from google import genai\n",
    "import os\n",
    "import json\n",
    "\n",
    "client = genai.Client()\n",
    "\n",
    "response = client.models.generate_content(\n",
    "    model=\"gemini-2.5-flash\",\n",
    "    contents=prompt,\n",
    ")\n",
    "\n",
    "print(response.text)\n",
    "format = {\n",
    "  \"user\": message,\n",
    "  \"AI_response\": response.text\n",
    "}\n",
    "\n",
    "with open(file_path, \"r\") as file:\n",
    "  data = json.loads(file.read())\n",
    "\n",
    "data.append(format)\n",
    "with open(file_path, \"w\") as f:\n",
    "  f.write(json.dumps(data, indent=4))\n"
   ]
  }
 ],
 "metadata": {
  "kernelspec": {
   "display_name": ".venv",
   "language": "python",
   "name": "python3"
  },
  "language_info": {
   "codemirror_mode": {
    "name": "ipython",
    "version": 3
   },
   "file_extension": ".py",
   "mimetype": "text/x-python",
   "name": "python",
   "nbconvert_exporter": "python",
   "pygments_lexer": "ipython3",
   "version": "3.13.5"
  }
 },
 "nbformat": 4,
 "nbformat_minor": 5
}
